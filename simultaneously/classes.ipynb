{
 "cells": [
  {
   "cell_type": "markdown",
   "metadata": {},
   "source": [
    "# Classes\n",
    "\n",
    "<hr style=\"clear:both\">\n",
    "This notebook creates all classes that help us during the simulation.\n",
    "\n",
    "- Ride-hailing vehicles **Ride_Hailing_Vehicles**\n",
    "- Private vehicles **Private_Vehicles**\n",
    "- Traveling passengers **Traveling_Passengers**\n",
    "- Waiting requests **Waiting_Requests**\n",
    "- Input Variables **Input_Variables**\n",
    "\n",
    "**Authors:** [Lynn Fayed](https://people.epfl.ch/lynn.fayed), [Lorenzo Ballinari](https://people.epfl.ch/lorenzo.ballinari), [Paulo Alexandre Ribeiro de Carvalho](https://people.epfl.ch/paulo.ribeirodecarvalho)\n",
    "\n",
    "<hr style=\"clear:both\">"
   ]
  },
  {
   "cell_type": "markdown",
   "metadata": {},
   "source": [
    "## Librairies"
   ]
  },
  {
   "cell_type": "code",
   "execution_count": 1,
   "metadata": {},
   "outputs": [],
   "source": [
    "import numpy as np"
   ]
  },
  {
   "cell_type": "markdown",
   "metadata": {},
   "source": [
    "## Creation of all needed classes\n",
    "\n",
    "This is where conditions on variables such as maximum waiting/detour time or fleet size are chosen. "
   ]
  },
  {
   "cell_type": "code",
   "execution_count": 2,
   "metadata": {},
   "outputs": [],
   "source": [
    "class Ride_Hailing_Vehicles:\n",
    "    \"\"\" Class for ride-hailing vehicles \"\"\"\n",
    "\n",
    "    def __init__(self, alldists, fleet_size):\n",
    "        self.vehicle_ID = np.arange(0, fleet_size)\n",
    "        self.next_node = np.random.randint(1, len(alldists), fleet_size)\n",
    "        self.remaining_distance = np.zeros(fleet_size)\n",
    "        self.destination_IDs = np.zeros((20, fleet_size), dtype='int') \n",
    "        self.destination_actions = np.zeros((20, fleet_size), dtype='int')\n",
    "        self.current_destinations = np.zeros((20, fleet_size), dtype = 'int')\n",
    "        self.occupancy = np.zeros(fleet_size, dtype = 'int')\n",
    "        self.distance_to_next_node = np.zeros(fleet_size)"
   ]
  },
  {
   "cell_type": "code",
   "execution_count": 3,
   "metadata": {},
   "outputs": [],
   "source": [
    "class Private_Vehicles:\n",
    "    \"\"\" Class for private vehicles \"\"\"\n",
    "\n",
    "    def __init__(self):\n",
    "        self.vehicle_ID = np.array([]).reshape(1, 0)\n",
    "        self.remaining_distance = np.array([]).reshape(1, 0)\n",
    "        self.vehicle_arrival_time = np.array([]).reshape(1, 0)"
   ]
  },
  {
   "cell_type": "code",
   "execution_count": 4,
   "metadata": {},
   "outputs": [],
   "source": [
    "class Traveling_Passengers:\n",
    "    \"\"\" Class for traveling passengers \"\"\"\n",
    "\n",
    "    def __init__(self):\n",
    "        self.request_ID = np.array([], dtype=int).reshape(1, 0)\n",
    "        self.origin = np.array([], dtype=int).reshape(1, 0)\n",
    "        self.destination = np.array([], dtype=int).reshape(1, 0)\n",
    "        self.request_arrival_time = np.array([]).reshape(1, 0)\n",
    "        self.willingness_to_share = np.array([], dtype=int).reshape(1, 0)\n",
    "        self.assigned_driver = np.array([], dtype=int).reshape(1, 0)\n",
    "        self.trip_length = np.array([]).reshape(1, 0)\n",
    "        self.traveled_time = np.array([]).reshape(1, 0)"
   ]
  },
  {
   "cell_type": "code",
   "execution_count": 5,
   "metadata": {},
   "outputs": [],
   "source": [
    "class Waiting_Requests:\n",
    "    \"\"\" Class for waiting requests \"\"\"\n",
    "\n",
    "    def __init__(self):\n",
    "        self.request_ID = np.array([], dtype=int).reshape(1, 0)\n",
    "        self.origin = np.array([], dtype=int).reshape(1, 0)\n",
    "        self.destination = np.array([], dtype=int).reshape(1, 0)\n",
    "        self.willingness_to_share = np.array([], dtype=int).reshape(1, 0)\n",
    "        self.request_arrival_time = np.array([]).reshape(1, 0)\n",
    "        self.assigned_driver = np.array([], dtype=int).reshape(1, 0)\n",
    "        self.trip_length = np.array([]).reshape(1, 0)\n",
    "        self.traveled_time = np.array([]).reshape(1, 0)"
   ]
  },
  {
   "cell_type": "code",
   "execution_count": 6,
   "metadata": {},
   "outputs": [],
   "source": [
    "class Input_Variables:\n",
    "    \"\"\" Define input variables \"\"\"\n",
    "\n",
    "    def __init__(self, sharing_fraction = 0.8, fleet_size = 2000, batch_number = 0, \\\n",
    "                 fraction_of_private_vehicles = 0.8, duration_of_simulation = 3, maximum_waiting_time = 7/60, \\\n",
    "                maximum_detour_time = 10/60, batching_time_factor = 6, time_step = 5/3600, waiting_tolerance = 2/60):\n",
    "        self.sharing_fraction = sharing_fraction\n",
    "        self.fleet_size = fleet_size # 2000 | 500\n",
    "        self.batch_number = batch_number\n",
    "        self.fraction_of_private_vehicles = fraction_of_private_vehicles # 0.8 | 0.95\n",
    "        self.duration_of_simulation = duration_of_simulation\n",
    "        self.maximum_waiting_time = maximum_waiting_time\n",
    "        self.maximum_detour_time = maximum_detour_time\n",
    "        self.batching_time_factor = batching_time_factor\n",
    "        self.time_step = time_step\n",
    "        self.waiting_tolerance = waiting_tolerance"
   ]
  }
 ],
 "metadata": {
  "kernelspec": {
   "display_name": "Python 3",
   "language": "python",
   "name": "python3"
  },
  "language_info": {
   "codemirror_mode": {
    "name": "ipython",
    "version": 3
   },
   "file_extension": ".py",
   "mimetype": "text/x-python",
   "name": "python",
   "nbconvert_exporter": "python",
   "pygments_lexer": "ipython3",
   "version": "3.8.3"
  }
 },
 "nbformat": 4,
 "nbformat_minor": 5
}
