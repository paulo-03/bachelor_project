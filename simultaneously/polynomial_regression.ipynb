{
 "cells": [
  {
   "cell_type": "code",
   "execution_count": 7,
   "metadata": {},
   "outputs": [],
   "source": [
    "def regression_poly(X, Y, deg, save, title, ylabel):\n",
    "    \"\"\"Function for doing polynomial regression\"\"\"\n",
    "    \n",
    "    # importing libraries for polynomial transform & for creating pipeline\n",
    "    from sklearn.preprocessing import PolynomialFeatures\n",
    "    from sklearn.pipeline import Pipeline\n",
    "    from sklearn.linear_model import LinearRegression\n",
    "    \n",
    "    # convert list into array\n",
    "    X = np.array(X)\n",
    "    Y = np.array(Y)\n",
    "    \n",
    "    # creating pipeline and fitting it on data\n",
    "    Input=[('polynomial',PolynomialFeatures(degree=deg)),('modal',LinearRegression())]\n",
    "    pipe=Pipeline(Input)\n",
    "    pipe.fit(X.reshape(-1, 1),Y.reshape(-1, 1))\n",
    "    \n",
    "    # predict values\n",
    "    X_smooth=np.linspace(X[0]-2,X[-1]+2,100)\n",
    "    poly_pred=pipe.predict(X_smooth.reshape(-1, 1))\n",
    "    \n",
    "    # sorting predicted values with respect to predictor\n",
    "    sorted_zip = sorted(zip(X_smooth,poly_pred))\n",
    "    x_poly, poly_pred = zip(*sorted_zip)\n",
    "    \n",
    "    # plotting predictions\n",
    "    plt.figure(dpi=quality, figsize=size)\n",
    "    #plt.bar(X,Y,color='#ff7f0e')\n",
    "    plt.scatter(X,Y,s=15,c='#850606')\n",
    "    plt.plot(x_poly,poly_pred,color='#FF0020',label=f'Polynomial Regression (deg={deg})')\n",
    "    plt.title(title)\n",
    "    plt.xlabel(title_x)\n",
    "    plt.ylabel(ylabel)\n",
    "    plt.xlim(X[0]-3,X[-1]+3)\n",
    "    plt.ylim(0,max(Y)*1.2)\n",
    "    plt.legend()\n",
    "    if save:\n",
    "        plt.savefig(f'graphs_{version}/{name_folder}/{type_graph}_pol_reg')\n",
    "    plt.show()"
   ]
  },
  {
   "cell_type": "code",
   "execution_count": 3,
   "metadata": {},
   "outputs": [],
   "source": []
  }
 ],
 "metadata": {
  "kernelspec": {
   "display_name": "Python 3",
   "language": "python",
   "name": "python3"
  },
  "language_info": {
   "codemirror_mode": {
    "name": "ipython",
    "version": 3
   },
   "file_extension": ".py",
   "mimetype": "text/x-python",
   "name": "python",
   "nbconvert_exporter": "python",
   "pygments_lexer": "ipython3",
   "version": "3.8.3"
  }
 },
 "nbformat": 4,
 "nbformat_minor": 5
}
