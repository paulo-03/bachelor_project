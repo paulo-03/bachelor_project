{
 "cells": [
  {
   "cell_type": "markdown",
   "metadata": {},
   "source": [
    "# Main simulation code - same time\n",
    "\n",
    "<hr style=\"clear:both\">\n",
    "This notebook runs all the simulation. The conditions defining this simulation should be defined in the notebook called \"classes.ipynb\". Only the objectif function can be change in this notebook.\n",
    "\n",
    "**Authors:** [Lynn Fayed](https://people.epfl.ch/lynn.fayed), [Lorenzo Ballinari](https://people.epfl.ch/lorenzo.ballinari), [Paulo Alexandre Ribeiro de Carvalho](https://people.epfl.ch/paulo.ribeirodecarvalho)\n",
    "\n",
    "<hr style=\"clear:both\">"
   ]
  },
  {
   "cell_type": "markdown",
   "metadata": {},
   "source": [
    "## Librairies"
   ]
  },
  {
   "cell_type": "code",
   "execution_count": 1,
   "metadata": {},
   "outputs": [],
   "source": [
    "import numpy as np\n",
    "import pdb\n",
    "import cProfile\n",
    "import timeit\n",
    "import networkx as nx\n",
    "from scipy.optimize import linear_sum_assignment\n",
    "import time\n",
    "import random\n",
    "import copy\n",
    "from copy import deepcopy\n",
    "import pickle\n",
    "from ipywidgets import IntProgress\n",
    "from IPython.display import display\n",
    "import time\n",
    "import os"
   ]
  },
  {
   "cell_type": "markdown",
   "metadata": {},
   "source": [
    "## Import datas"
   ]
  },
  {
   "cell_type": "code",
   "execution_count": 2,
   "metadata": {},
   "outputs": [],
   "source": [
    "# import network data\n",
    "\n",
    "data_file = open(r\"data.pkl\", \"rb\")\n",
    "f = pickle.load(data_file)\n",
    "arrival_batches, alldists, allpaths = f[0], f[1], f[2]"
   ]
  },
  {
   "cell_type": "code",
   "execution_count": 3,
   "metadata": {},
   "outputs": [],
   "source": [
    "# import notebooks\n",
    "\n",
    "%run func_same_time.ipynb\n",
    "%run classes.ipynb\n",
    "np.random.seed(0)"
   ]
  },
  {
   "cell_type": "markdown",
   "metadata": {},
   "source": [
    "## Initialize "
   ]
  },
  {
   "cell_type": "code",
   "execution_count": 4,
   "metadata": {},
   "outputs": [],
   "source": [
    "# Initialize input variables\n",
    "\n",
    "input_variables = Input_Variables()\n",
    "private_vehicles = Private_Vehicles()\n",
    "ride_hailing_vehicles = Ride_Hailing_Vehicles(alldists, input_variables.fleet_size)\n",
    "traveling_passengers = Traveling_Passengers()\n",
    "waiting_requests = Waiting_Requests()\n",
    "\n",
    "# Initialize arrivals\n",
    "\n",
    "arrivals = arrival_batches[input_variables.batch_number]\n",
    "r = np.random.rand(len(arrivals[0])) # donne une \"liste\" (array de 1Xlen(arrivals[0])) de chiffre aléatoire entre 0 et 1.\n",
    "r = r < input_variables.fraction_of_private_vehicles # retourne une liste avec des True et False ou la conditions est respectée ou pas. \n",
    "private_vehicle_arrivals = arrivals[:,r]\n",
    "request_arrivals = arrivals[:,r == False]\n",
    "\n",
    "# Initialize output variables\n",
    "\n",
    "accumulation, velocity = [], []\n",
    "abandonment, total_arrived_requests = 0, 0\n",
    "accumulation.append(input_variables.fleet_size)\n",
    "velocity.append(compute_speed(accumulation[0]))"
   ]
  },
  {
   "cell_type": "markdown",
   "metadata": {},
   "source": [
    "## Conditions\n",
    "\n",
    "Give the paramaters choosen for the current simulation"
   ]
  },
  {
   "cell_type": "code",
   "execution_count": 5,
   "metadata": {},
   "outputs": [
    {
     "name": "stdout",
     "output_type": "stream",
     "text": [
      "fleet size : 500[veh]\n",
      "max waiting time : 5.0[min]\n",
      "max detour time : 15.0[min]\n",
      "sharing percentage : 80.0[%]\n"
     ]
    }
   ],
   "source": [
    "print(f'fleet size : {input_variables.fleet_size}[veh]\\nmax waiting time : {input_variables.maximum_waiting_time*60}[min]\\nmax detour time : {input_variables.maximum_detour_time*60}[min]\\nsharing percentage : {input_variables.sharing_fraction*100}[%]')"
   ]
  },
  {
   "cell_type": "markdown",
   "metadata": {},
   "source": [
    "## Simulation"
   ]
  },
  {
   "cell_type": "code",
   "execution_count": 6,
   "metadata": {},
   "outputs": [
    {
     "name": "stdout",
     "output_type": "stream",
     "text": [
      "Progress bar of the simulation\n"
     ]
    },
    {
     "data": {
      "application/vnd.jupyter.widget-view+json": {
       "model_id": "fbc2c92d98ac45b6b281c98a5f800742",
       "version_major": 2,
       "version_minor": 0
      },
      "text/plain": [
       "IntProgress(value=0, max=2159)"
      ]
     },
     "metadata": {},
     "output_type": "display_data"
    },
    {
     "name": "stdout",
     "output_type": "stream",
     "text": [
      "0.28[%]\r"
     ]
    },
    {
     "name": "stderr",
     "output_type": "stream",
     "text": [
      "/tmp/ipykernel_558/4020577522.py:6: DeprecationWarning: The truth value of an empty array is ambiguous. Returning False, but in future this will result in an error. Use `array.size > 0` to check that an array is not empty.\n",
      "  if traveling_passengers.request_ID[index] in already_analyze:\n"
     ]
    },
    {
     "name": "stdout",
     "output_type": "stream",
     "text": [
      "The current simulation took 11[min] and 9 [s] to finsh.\n"
     ]
    }
   ],
   "source": [
    "######################################## simulation code ########################################\n",
    "# Let's start the chrono to know the duration of the simulation\n",
    "t1 = time.time()\n",
    "\n",
    "# Discretize the time in steps\n",
    "Time = np.arange(input_variables.time_step, input_variables.duration_of_simulation, input_variables.time_step)\n",
    "\n",
    "# Initialize the list to stock the performance variable\n",
    "Occupancy_perf = np.ones((3,len(Time)))\n",
    "Abandonment_perf = np.array([])\n",
    "already_analyze = []\n",
    "Waiting_time_perf = np.array([])\n",
    "Detour_time_perf = []\n",
    "\n",
    "# Initialize the first step\n",
    "traveling_passengers_old = deepcopy(traveling_passengers)\n",
    "requests_are_sharing = []\n",
    "\n",
    "# Initialize the history of ID that will share and with wich scenario\n",
    "history_sharing = np.zeros((1,3))\n",
    "\n",
    "# Progression bar\n",
    "print(\"Progress bar of the simulation\")\n",
    "progression = 0\n",
    "f = IntProgress(min=0, max=len(Time)) # instantiate the bar\n",
    "display(f) # display the bar\n",
    "\n",
    "for time in Time:\n",
    "    # Update progress bar\n",
    "    f.value += 1 # signal to increment the progress bar\n",
    "    progression += 1\n",
    "    print(f'{(progression/len(Time))*100:.2f}[%]', end='\\r')\n",
    "    \n",
    "    # Update network\n",
    "    traveled_distance = input_variables.time_step * velocity[-1]\n",
    "    \n",
    "    for vehicle_index in range(input_variables.fleet_size):\n",
    "        update_remaining_distance(ride_hailing_vehicles, vehicle_index, traveled_distance )\n",
    "        update_network(ride_hailing_vehicles, waiting_requests, traveling_passengers, vehicle_index)\n",
    "    \n",
    "    if np.any(private_vehicles.remaining_distance):\n",
    "        private_vehicles.remaining_distance -=  traveled_distance\n",
    "    \n",
    "    if len(traveling_passengers.traveled_time):\n",
    "        traveling_passengers.traveled_time +=  traveled_distance/velocity[-1]\n",
    "        \n",
    "    # Update arrivals\n",
    "    new_private_vehicle_arrivals = private_vehicle_arrivals[:, (private_vehicle_arrivals[0]>=time - input_variables.time_step) & (private_vehicle_arrivals[0]<time)]\n",
    "    new_request_arrivals = request_arrivals[:, ((request_arrivals[0]>=time - input_variables.time_step) & (request_arrivals[0]<time))]\n",
    "    compute_private_vehicle_arrivals(private_vehicles, new_private_vehicle_arrivals)\n",
    "    compute_request_arrivals(waiting_requests, input_variables.sharing_fraction, new_request_arrivals)\n",
    "    total_arrived_requests  += len(new_request_arrivals)\n",
    "    \n",
    "    # Update abandonments\n",
    "    exiting_bool = ((time - waiting_requests.request_arrival_time) > input_variables.waiting_tolerance) * (waiting_requests.assigned_driver == -1) #vecteur remplit de 1 (request à abandonner) et de 0 (si la request peut encore être traité) \n",
    "    abandon_requests(waiting_requests, private_vehicles, exiting_bool) #Remove abandoning vehicles from list of passengers and add them to pvs\n",
    "    abandonment += sum(exiting_bool) #on somme le vecteur remplit de 1 et 0 pour savoir combien de request ont été abandonné\n",
    "    \n",
    "    # Update number of private vehicles in the system\n",
    "    complete_private_vehicle_trips(private_vehicles)\n",
    "    \n",
    "    # Keep an eye on evolution of some performance metric\n",
    "    occupancy_perf(Occupancy_perf, time, ride_hailing_vehicles, Time)\n",
    "    Abandonment_perf = abandonment_perf(Abandonment_perf, abandonment)\n",
    "    Waiting_time_perf = waiting_time_perf(Waiting_time_perf, traveling_passengers, time, already_analyze)\n",
    "            \n",
    "    # Match vehicles to requests\n",
    "    if np.round(time/input_variables.time_step, 5)%input_variables.batching_time_factor==0: #check si le rapport de \"time\" sur le \"time step\" (arrondie au 5) est un multiple de \"batching_time_factor\"\n",
    "\n",
    "        # The class waiting_requests already sort the request by the time they arrived.\n",
    "        index_unassigned_request = (waiting_requests.assigned_driver == -1).nonzero()[0] # We have now the index of all unassigned request that we must try to fit with a sharing car. \n",
    "        index_unassigned_request_ready_to_share = np.array([])\n",
    "        \n",
    "        # We only keep requests that are ready to share the ride\n",
    "        for i in index_unassigned_request:\n",
    "            if waiting_requests.willingness_to_share[i] == 1:\n",
    "                index_unassigned_request_ready_to_share = np.append(index_unassigned_request_ready_to_share, int(i))           \n",
    "    \n",
    "        # Occupancy\n",
    "        index_vehicles_available = occupancy(ride_hailing_vehicles)\n",
    "        \n",
    "        # List of scenarios\n",
    "        scenarios = [0,1,2,3,4,5,6]\n",
    "        \n",
    "        # Initialize cost matrix shape(#veh,#request)\n",
    "        cost_matrix = np.zeros((len(index_vehicles_available),len(index_unassigned_request)))\n",
    "        scenario_matching = np.zeros((len(index_vehicles_available),len(index_unassigned_request)))\n",
    "        \n",
    "        # Begin the constraint control\n",
    "        for request_ID in index_unassigned_request:\n",
    "            for vehicle_ID in index_vehicles_available:\n",
    "                \n",
    "                request_ID = int(request_ID)\n",
    "                vehicle_ID = int(vehicle_ID)\n",
    "                \n",
    "                # Initialize the list to stock the metrics\n",
    "                metrics = []\n",
    "                metrics_feasibilty = []\n",
    "                                     \n",
    "                for scenario in scenarios:\n",
    "                    \n",
    "                    # Waiting time\n",
    "                    check_w, waiting_time_1, waiting_time_2 = check_waiting_time(request_ID, vehicle_ID, scenario, \n",
    "                                                                                 ride_hailing_vehicles, waiting_requests, \n",
    "                                                                                 traveling_passengers, input_variables, time)\n",
    "        \n",
    "                    # Detour time\n",
    "                    check_t, detour_time_1, detour_time_2 = check_detour_time(request_ID, vehicle_ID, scenario, \n",
    "                                                                              ride_hailing_vehicles, waiting_requests, \n",
    "                                                                              traveling_passengers, input_variables, \n",
    "                                                                              time, velocity[-1], check_w)\n",
    "                    \n",
    "                    # Stock metrics results\n",
    "                    metrics.append(avg(detour_time_1, detour_time_2)) #choose here the metric to optimize\n",
    "                    metrics_feasibilty.append(check_t) # where there is a 1 in this list means that both constraint are okay.\n",
    "                        \n",
    "                # Update cost matrix\n",
    "                cost_matrix, scenario_matching = update_matrix(request_ID, vehicle_ID, cost_matrix, scenario_matching, metrics, \n",
    "                                                               metrics_feasibilty, \n",
    "                                                               index_vehicles_available, \n",
    "                                                               index_unassigned_request)\n",
    "                \n",
    "\n",
    "        history_sharing = match_sharing(waiting_requests, ride_hailing_vehicles, cost_matrix, scenario_matching, \n",
    "                                        Detour_time_perf, traveling_passengers, input_variables, time, velocity[-1], \n",
    "                                        1, history_sharing)\n",
    "    \n",
    "    # Keep an eye on detour times\n",
    "    traveling_passengers_old = detour_time_perf(traveling_passengers, traveling_passengers_old, velocity[-1], \n",
    "                                                requests_are_sharing, Detour_time_perf)      \n",
    "\n",
    "    # Update accumulation and speed\n",
    "    accumulation.append(input_variables.fleet_size + len(private_vehicles.remaining_distance))\n",
    "    velocity.append(compute_speed(accumulation[-1]))\n",
    "    \n",
    "output = {'abandonment': abandonment}\n",
    "\n",
    "# Stop the chrono and give the all duration for this simulation\n",
    "del time # because an other variable has been call like this, so we need to delete it...\n",
    "import time # ... and then re-import time. \n",
    "t2 = time.time()\n",
    "print(f'The current simulation took {int((t2-t1)/60)}[min] and {int((t2-t1)-(int((t2-t1)/60)*60))} [s] to finsh.')"
   ]
  },
  {
   "cell_type": "markdown",
   "metadata": {},
   "source": [
    "## Results"
   ]
  },
  {
   "cell_type": "code",
   "execution_count": 7,
   "metadata": {},
   "outputs": [],
   "source": [
    "# Convert the list in array, this way all performance variables are the same class\n",
    "Detour_time_perf=np.asarray(Detour_time_perf)\n",
    "\n",
    "# Print all 4 performances variables & history of sharings\n",
    "# print(\"position de la dernière mise à jour : \",int((time/Time[-1])*len(Time)),\"\\n\")\n",
    "# print(\"occupancy performance : \",Occupancy_perf.shape,type(Occupancy_perf),\"\\n\",Occupancy_perf, \"\\n\")\n",
    "# print(\"abandonment performance : \",Abandonment_perf.shape,type(Abandonment_perf),\"\\n\",Abandonment_perf,\"\\n\")\n",
    "# print(\"waiting time performance : \",Waiting_time_perf.shape,type(Waiting_time_perf),\"\\n\",Waiting_time_perf,\"\\n\")\n",
    "# print(\"detour performance : \",Detour_time_perf.shape,type(Detour_time_perf),\"\\n\",Detour_time_perf, \"\\n\")\n",
    "# print(\"history of sharing : \",history_sharing.shape,type(history_sharing),\"\\n\",history_sharing, \"\\n\")"
   ]
  },
  {
   "cell_type": "markdown",
   "metadata": {},
   "source": [
    "## Save results\n",
    "\n",
    "Be sure to have all the path created in your computer."
   ]
  },
  {
   "cell_type": "code",
   "execution_count": 8,
   "metadata": {},
   "outputs": [
    {
     "name": "stdout",
     "output_type": "stream",
     "text": [
      "fleet size : 500[veh]\n",
      "max waiting time : 5.0[min]\n",
      "max detour time : 15.0[min]\n",
      "sharing percentage : 80.0[%]\n"
     ]
    }
   ],
   "source": [
    "# Give a feedback of the parameters for the current simulation\n",
    "print(f'fleet size : {input_variables.fleet_size}[veh]\\nmax waiting time : {input_variables.maximum_waiting_time*60}[min]\\nmax detour time : {input_variables.maximum_detour_time*60}[min]\\nsharing percentage : {input_variables.sharing_fraction*100}[%]')"
   ]
  },
  {
   "cell_type": "code",
   "execution_count": 9,
   "metadata": {},
   "outputs": [],
   "source": [
    "number = '3_reduce'\n",
    "\n",
    "# Save all 4 performances variables\n",
    "np.save(f'Results_same_time/condition_{number}/Occupancy_perf_condition_{number}_s_t.npy', Occupancy_perf)\n",
    "np.save(f'Results_same_time/condition_{number}/Abandonment_perf_condition_{number}_s_t.npy', Abandonment_perf)\n",
    "np.save(f'Results_same_time/condition_{number}/Waiting_time_perf_condition_{number}_s_t.npy', Waiting_time_perf)\n",
    "np.save(f'Results_same_time/condition_{number}/Detour_time_perf_condition_{number}_s_t.npy', Detour_time_perf)\n",
    "\n",
    "# Save the history of every request that share a ride\n",
    "np.save(f'Results_same_time/condition_{number}/history_sharing_condition_{number}_s_t.npy', history_sharing)"
   ]
  },
  {
   "cell_type": "code",
   "execution_count": 10,
   "metadata": {},
   "outputs": [],
   "source": [
    "# Make a sound when simulation is finish\n",
    "#os.system('say \"votre simulation est terminée !\"')"
   ]
  }
 ],
 "metadata": {
  "kernelspec": {
   "display_name": "Python 3",
   "language": "python",
   "name": "python3"
  },
  "language_info": {
   "codemirror_mode": {
    "name": "ipython",
    "version": 3
   },
   "file_extension": ".py",
   "mimetype": "text/x-python",
   "name": "python",
   "nbconvert_exporter": "python",
   "pygments_lexer": "ipython3",
   "version": "3.8.3"
  }
 },
 "nbformat": 4,
 "nbformat_minor": 5
}
